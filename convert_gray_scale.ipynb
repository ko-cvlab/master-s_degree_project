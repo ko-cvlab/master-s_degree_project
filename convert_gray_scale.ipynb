{
 "cells": [
  {
   "cell_type": "code",
   "execution_count": 1,
   "metadata": {},
   "outputs": [],
   "source": [
    "import matplotlib.pyplot as plt\n",
    "import numpy as np\n",
    "import cv2\n",
    "from PIL import Image\n",
    "import glob\n",
    "import os"
   ]
  },
  {
   "cell_type": "code",
   "execution_count": 3,
   "metadata": {},
   "outputs": [
    {
     "data": {
      "text/plain": [
       "'/mnt/c/Users/kokun/Desktop/Project/tutorial_mask_rcnn_pytorch/datasets/ubiris_practice/ubiris_peculiar(png)-2/C1_S1_I10_L.png'"
      ]
     },
     "execution_count": 3,
     "metadata": {},
     "output_type": "execute_result"
    }
   ],
   "source": [
    "path_anno_rgb = \"/mnt/c/Users/kokun/Desktop/Project/tutorial_mask_rcnn_pytorch/datasets/ubiris_practice/ubiris_peculiar(png)-2\"\n",
    "path_anno_gray = \"/mnt/c/Users/kokun/Desktop/Project/tutorial_mask_rcnn_pytorch/datasets/ubiris_practice/ubiris_peculiar(png)\"\n",
    "files = glob.glob(path_anno_rgb+\"/*\")\n",
    "files[0]"
   ]
  },
  {
   "cell_type": "code",
   "execution_count": 7,
   "metadata": {},
   "outputs": [
    {
     "name": "stdout",
     "output_type": "stream",
     "text": [
      "C1_S1_I10_L.png\n",
      "C1_S1_I10_R.png\n",
      "C1_S1_I11_L.png\n",
      "C1_S1_I11_R.png\n",
      "C1_S1_I12_L.png\n",
      "C1_S1_I12_R.png\n",
      "C1_S1_I13_L.png\n",
      "C1_S1_I13_R.png\n",
      "C1_S1_I14_L.png\n",
      "C1_S1_I14_R.png\n",
      "C1_S1_I15_L.png\n",
      "C1_S1_I15_R.png\n",
      "C1_S1_I1_L.png\n",
      "C1_S1_I1_R.png\n",
      "C1_S1_I2_L.png\n",
      "C1_S1_I2_R.png\n",
      "C1_S1_I3_L.png\n",
      "C1_S1_I3_R.png\n",
      "C1_S1_I4_L.png\n",
      "C1_S1_I4_R.png\n",
      "C1_S1_I5_L.png\n",
      "C1_S1_I5_R.png\n",
      "C1_S1_I6_L.png\n",
      "C1_S1_I6_R.png\n",
      "C1_S1_I7_L.png\n",
      "C1_S1_I7_R.png\n",
      "C1_S1_I8_L.png\n",
      "C1_S1_I8_R.png\n",
      "C1_S1_I9_L.png\n",
      "C1_S1_I9_R.png\n",
      "C3_S1_I10_L.png\n",
      "C3_S1_I10_R.png\n",
      "C3_S1_I11_L.png\n",
      "C3_S1_I11_R.png\n",
      "C3_S1_I12_L.png\n",
      "C3_S1_I12_R.png\n",
      "C3_S1_I13_L.png\n",
      "C3_S1_I13_R.png\n",
      "C3_S1_I14_L.png\n",
      "C3_S1_I14_R.png\n",
      "C3_S1_I15_L.png\n",
      "C3_S1_I15_R.png\n",
      "C3_S1_I1_L.png\n",
      "C3_S1_I1_R.png\n",
      "C3_S1_I2_L.png\n",
      "C3_S1_I2_R.png\n",
      "C3_S1_I3_L.png\n",
      "C3_S1_I3_R.png\n",
      "C3_S1_I4_L.png\n",
      "C3_S1_I4_R.png\n",
      "C3_S1_I5_L.png\n",
      "C3_S1_I5_R.png\n",
      "C3_S1_I6_L.png\n",
      "C3_S1_I6_R.png\n",
      "C3_S1_I7_L.png\n",
      "C3_S1_I7_R.png\n",
      "C3_S1_I8_L.png\n",
      "C3_S1_I8_R.png\n",
      "C3_S1_I9_L.png\n",
      "C3_S1_I9_R.png\n",
      "C5_S1_I10_L.png\n",
      "C5_S1_I10_R.png\n",
      "C5_S1_I11_L.png\n",
      "C5_S1_I11_R.png\n",
      "C5_S1_I12_L.png\n",
      "C5_S1_I12_R.png\n",
      "C5_S1_I13_L.png\n",
      "C5_S1_I13_R.png\n",
      "C5_S1_I14_L.png\n",
      "C5_S1_I14_R.png\n",
      "C5_S1_I15_L.png\n",
      "C5_S1_I15_R.png\n",
      "C5_S1_I1_L.png\n",
      "C5_S1_I1_R.png\n",
      "C5_S1_I2_L.png\n",
      "C5_S1_I2_R.png\n",
      "C5_S1_I3_L.png\n",
      "C5_S1_I3_R.png\n",
      "C5_S1_I4_L.png\n",
      "C5_S1_I4_R.png\n",
      "C5_S1_I5_L.png\n",
      "C5_S1_I5_R.png\n",
      "C5_S1_I6_L.png\n",
      "C5_S1_I6_R.png\n",
      "C5_S1_I7_L.png\n",
      "C5_S1_I7_R.png\n",
      "C5_S1_I8_L.png\n",
      "C5_S1_I8_R.png\n",
      "C5_S1_I9_L.png\n",
      "C5_S1_I9_R.png\n"
     ]
    }
   ],
   "source": [
    "for i in range(len(files)):\n",
    "# for i in range(10):\n",
    "    img_path = files[i]\n",
    "    basename = os.path.basename(img_path)\n",
    "    print(basename)\n",
    "    img = Image.open(img_path)\n",
    "    img = img.convert(\"L\")\n",
    "    # print(img.mode)\n",
    "    # img.save(path_anno_gray + \"/\" +basename)"
   ]
  },
  {
   "cell_type": "code",
   "execution_count": 12,
   "metadata": {},
   "outputs": [
    {
     "data": {
      "text/plain": [
       "'L'"
      ]
     },
     "execution_count": 12,
     "metadata": {},
     "output_type": "execute_result"
    }
   ],
   "source": [
    "#検証\n",
    "path = \"/mnt/c/Users/kokun/Desktop/Project/tutorial_mask_rcnn_pytorch/datasets/ubiris_practice/ubiris_peculiar(png)/C1_S1_I1_L.png\"\n",
    "mask = Image.open(path)\n",
    "mask.mode"
   ]
  },
  {
   "cell_type": "code",
   "execution_count": null,
   "metadata": {},
   "outputs": [],
   "source": []
  },
  {
   "cell_type": "code",
   "execution_count": null,
   "metadata": {},
   "outputs": [],
   "source": []
  }
 ],
 "metadata": {
  "kernelspec": {
   "display_name": "Python 3.8.10 ('pytorch_tutorial_torchvision')",
   "language": "python",
   "name": "python3"
  },
  "language_info": {
   "codemirror_mode": {
    "name": "ipython",
    "version": 3
   },
   "file_extension": ".py",
   "mimetype": "text/x-python",
   "name": "python",
   "nbconvert_exporter": "python",
   "pygments_lexer": "ipython3",
   "version": "3.8.10"
  },
  "orig_nbformat": 4,
  "vscode": {
   "interpreter": {
    "hash": "081636ca58aee0130b2c03cb8bfb43e2568f00b75768ccfabdff0498eb55b3a0"
   }
  }
 },
 "nbformat": 4,
 "nbformat_minor": 2
}
